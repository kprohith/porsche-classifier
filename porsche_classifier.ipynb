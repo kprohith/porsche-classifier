{
  "nbformat": 4,
  "nbformat_minor": 0,
  "metadata": {
    "kernelspec": {
      "display_name": "Python 3",
      "language": "python",
      "name": "python3"
    },
    "language_info": {
      "codemirror_mode": {
        "name": "ipython",
        "version": 3
      },
      "file_extension": ".py",
      "mimetype": "text/x-python",
      "name": "python",
      "nbconvert_exporter": "python",
      "pygments_lexer": "ipython3",
      "version": "3.6.7"
    },
    "colab": {
      "name": "porsche-classifier.ipynb",
      "provenance": [],
      "collapsed_sections": []
    }
  },
  "cells": [
    {
      "cell_type": "markdown",
      "metadata": {
        "hide_input": false,
        "id": "NNYWAmXPLkfL",
        "colab_type": "text"
      },
      "source": [
        "# Creating your own dataset from Google Images\n",
        "\n",
        "\n"
      ]
    },
    {
      "cell_type": "markdown",
      "metadata": {
        "hide_input": true,
        "id": "twGBGw0ILkfN",
        "colab_type": "text"
      },
      "source": [
        "In this tutorial we will see how to easily create an image dataset through Google Images. **Note**: You will have to repeat these steps for any new category you want to Google (e.g once for dogs and once for cats)."
      ]
    },
    {
      "cell_type": "code",
      "metadata": {
        "hide_input": false,
        "id": "RMx9MNT0LkfR",
        "colab_type": "code",
        "colab": {}
      },
      "source": [
        "from fastai.vision import *"
      ],
      "execution_count": 0,
      "outputs": []
    },
    {
      "cell_type": "markdown",
      "metadata": {
        "id": "7En0XrcmLkff",
        "colab_type": "text"
      },
      "source": [
        "## Get a list of URLs"
      ]
    },
    {
      "cell_type": "markdown",
      "metadata": {
        "id": "QFP_P-BfLkfh",
        "colab_type": "text"
      },
      "source": [
        "### Search and scroll"
      ]
    },
    {
      "cell_type": "markdown",
      "metadata": {
        "id": "G3iOXpvhLkfi",
        "colab_type": "text"
      },
      "source": [
        "Go to [Google Images](http://images.google.com) and search for the images you are interested in. The more specific you are in your Google Search, the better the results and the less manual pruning you will have to do.\n",
        "\n",
        "Scroll down until you've seen all the images you want to download, or until you see a button that says 'Show more results'. All the images you scrolled past are now available to download. To get more, click on the button, and continue scrolling. The maximum number of images Google Images shows is 700.\n",
        "\n",
        "It is a good idea to put things you want to exclude into the search query, for instance if you are searching for the Eurasian wolf, \"canis lupus lupus\", it might be a good idea to exclude other variants:\n",
        "\n",
        "    \"canis lupus lupus\" -dog -arctos -familiaris -baileyi -occidentalis\n",
        "\n",
        "You can also limit your results to show only photos by clicking on Tools and selecting Photos from the Type dropdown."
      ]
    },
    {
      "cell_type": "markdown",
      "metadata": {
        "id": "M2wRuj-4Lkfl",
        "colab_type": "text"
      },
      "source": [
        "### Download into file"
      ]
    },
    {
      "cell_type": "markdown",
      "metadata": {
        "id": "9MkQQE-0Lkfm",
        "colab_type": "text"
      },
      "source": [
        "Now you must run some Javascript code in your browser which will save the URLs of all the images you want for you dataset.\n",
        "\n",
        "In Google Chrome press <kbd>Ctrl</kbd><kbd>Shift</kbd><kbd>j</kbd> on Windows/Linux and <kbd>Cmd</kbd><kbd>Opt</kbd><kbd>j</kbd> on macOS, and a small window the javascript 'Console' will appear. In Firefox press <kbd>Ctrl</kbd><kbd>Shift</kbd><kbd>k</kbd> on Windows/Linux or <kbd>Cmd</kbd><kbd>Opt</kbd><kbd>k</kbd> on macOS. That is where you will paste the JavaScript commands.\n",
        "\n",
        "You will need to get the urls of each of the images. Before running the following commands, you may want to disable ad blocking extensions (uBlock, AdBlockPlus etc.) in Chrome. Otherwise the window.open() command doesn't work. Then you can run the following commands:\n",
        "\n",
        "```javascript\n",
        "urls=Array.from(document.querySelectorAll('.rg_i')).map(el=> el.hasAttribute('data-src')?el.getAttribute('data-src'):el.getAttribute('data-iurl'));\n",
        "window.open('data:text/csv;charset=utf-8,' + escape(urls.join('\\n')));\n",
        "```"
      ]
    },
    {
      "cell_type": "markdown",
      "metadata": {
        "id": "YCyQF1tLLkfo",
        "colab_type": "text"
      },
      "source": [
        "### Create directory and upload urls file into your server"
      ]
    },
    {
      "cell_type": "markdown",
      "metadata": {
        "id": "lMQHBKIdLkfq",
        "colab_type": "text"
      },
      "source": [
        "Choose an appropriate name for your labeled images. You can run these steps multiple times to create different labels."
      ]
    },
    {
      "cell_type": "code",
      "metadata": {
        "id": "iqj1-hCKLkft",
        "colab_type": "code",
        "colab": {}
      },
      "source": [
        "folder = '718'\n",
        "file = '718.csv'"
      ],
      "execution_count": 0,
      "outputs": []
    },
    {
      "cell_type": "code",
      "metadata": {
        "id": "4lEVzKuDLkf2",
        "colab_type": "code",
        "colab": {}
      },
      "source": [
        "folder = '911'\n",
        "file = '911.csv'"
      ],
      "execution_count": 0,
      "outputs": []
    },
    {
      "cell_type": "code",
      "metadata": {
        "id": "MqjI_joRLkf9",
        "colab_type": "code",
        "colab": {}
      },
      "source": [
        "folder = 'cayenne'\n",
        "file = 'cayenne.csv'"
      ],
      "execution_count": 0,
      "outputs": []
    },
    {
      "cell_type": "code",
      "metadata": {
        "id": "9ler5PiALkgE",
        "colab_type": "code",
        "colab": {}
      },
      "source": [
        "folder = 'macan'\n",
        "file = 'macan.csv'"
      ],
      "execution_count": 0,
      "outputs": []
    },
    {
      "cell_type": "code",
      "metadata": {
        "id": "qRO5mLbZLkgM",
        "colab_type": "code",
        "colab": {}
      },
      "source": [
        "folder = 'taycan'\n",
        "file = 'taycan.csv'"
      ],
      "execution_count": 0,
      "outputs": []
    },
    {
      "cell_type": "code",
      "metadata": {
        "id": "2z8-fbhiLkgS",
        "colab_type": "code",
        "colab": {}
      },
      "source": [
        "folder = 'panamera'\n",
        "file = 'panamera.csv'"
      ],
      "execution_count": 0,
      "outputs": []
    },
    {
      "cell_type": "markdown",
      "metadata": {
        "id": "EF-_VgTULkga",
        "colab_type": "text"
      },
      "source": [
        "You will need to run this cell once per each category."
      ]
    },
    {
      "cell_type": "code",
      "metadata": {
        "id": "X-LnP3vULkgb",
        "colab_type": "code",
        "colab": {}
      },
      "source": [
        "path = Path('data/porsche')\n",
        "dest = path/folder\n",
        "dest.mkdir(parents=True, exist_ok=True)"
      ],
      "execution_count": 0,
      "outputs": []
    },
    {
      "cell_type": "code",
      "metadata": {
        "id": "ukf-dd8CLkgi",
        "colab_type": "code",
        "colab": {},
        "outputId": "6a57064c-b4d6-4976-bd01-3636d96e9b4a"
      },
      "source": [
        "path.ls()"
      ],
      "execution_count": 0,
      "outputs": [
        {
          "output_type": "execute_result",
          "data": {
            "text/plain": [
              "[PosixPath('data/porsche/cayenne'),\n",
              " PosixPath('data/porsche/panamera.csv'),\n",
              " PosixPath('data/porsche/cayenne.csv'),\n",
              " PosixPath('data/porsche/panamera'),\n",
              " PosixPath('data/porsche/taycan'),\n",
              " PosixPath('data/porsche/911.csv'),\n",
              " PosixPath('data/porsche/taycan.csv'),\n",
              " PosixPath('data/porsche/911'),\n",
              " PosixPath('data/porsche/macan.csv'),\n",
              " PosixPath('data/porsche/718'),\n",
              " PosixPath('data/porsche/718.csv'),\n",
              " PosixPath('data/porsche/macan')]"
            ]
          },
          "metadata": {
            "tags": []
          },
          "execution_count": 15
        }
      ]
    },
    {
      "cell_type": "markdown",
      "metadata": {
        "id": "a7yOtpelLkgt",
        "colab_type": "text"
      },
      "source": [
        "Finally, upload your urls file. You just need to press 'Upload' in your working directory and select your file, then click 'Upload' for each of the displayed files.\n",
        "\n",
        "![uploaded file](images/download_images/upload.png)"
      ]
    },
    {
      "cell_type": "markdown",
      "metadata": {
        "id": "ztw3vszCLkgu",
        "colab_type": "text"
      },
      "source": [
        "## Download images"
      ]
    },
    {
      "cell_type": "markdown",
      "metadata": {
        "id": "Dv5N_-RwLkgw",
        "colab_type": "text"
      },
      "source": [
        "Now you will need to download your images from their respective urls.\n",
        "\n",
        "fast.ai has a function that allows you to do just that. You just have to specify the urls filename as well as the destination folder and this function will download and save all images that can be opened. If they have some problem in being opened, they will not be saved.\n",
        "\n",
        "Let's download our images! Notice you can choose a maximum number of images to be downloaded. In this case we will not download all the urls.\n",
        "\n",
        "You will need to run this line once for every category."
      ]
    },
    {
      "cell_type": "code",
      "metadata": {
        "id": "AdOjuUPWLkgy",
        "colab_type": "code",
        "colab": {}
      },
      "source": [
        "classes = ['taycan','panamera','macan','cayenne','718','911']"
      ],
      "execution_count": 0,
      "outputs": []
    },
    {
      "cell_type": "code",
      "metadata": {
        "id": "Wc_Ws2SjLkg8",
        "colab_type": "code",
        "colab": {},
        "outputId": "9ded5ba8-7b2a-4c8e-ce1a-a29f6e6be754"
      },
      "source": [
        "download_images(path/file, dest, max_pics=500)"
      ],
      "execution_count": 0,
      "outputs": [
        {
          "output_type": "display_data",
          "data": {
            "text/html": [
              ""
            ],
            "text/plain": [
              "<IPython.core.display.HTML object>"
            ]
          },
          "metadata": {
            "tags": []
          }
        },
        {
          "output_type": "stream",
          "text": [
            "Error  Invalid URL '': No schema supplied. Perhaps you meant http://?\n",
            "Error  Invalid URL '': No schema supplied. Perhaps you meant http://?\n",
            "Error  Invalid URL '': No schema supplied. Perhaps you meant http://?\n",
            "Error  Invalid URL '': No schema supplied. Perhaps you meant http://?\n",
            "Error  Invalid URL '': No schema supplied. Perhaps you meant http://?\n",
            "Error  Invalid URL '': No schema supplied. Perhaps you meant http://?\n",
            "Error  Invalid URL '': No schema supplied. Perhaps you meant http://?\n",
            "Error  Invalid URL '': No schema supplied. Perhaps you meant http://?\n",
            "Error  Invalid URL '': No schema supplied. Perhaps you meant http://?\n",
            "Error  Invalid URL '': No schema supplied. Perhaps you meant http://?\n",
            "Error  Invalid URL '': No schema supplied. Perhaps you meant http://?\n",
            "Error  Invalid URL '': No schema supplied. Perhaps you meant http://?\n",
            "Error  Invalid URL '': No schema supplied. Perhaps you meant http://?\n",
            "Error  Invalid URL '': No schema supplied. Perhaps you meant http://?\n",
            "Error  Invalid URL '': No schema supplied. Perhaps you meant http://?\n",
            "Error  Invalid URL '': No schema supplied. Perhaps you meant http://?\n",
            "Error  Invalid URL '': No schema supplied. Perhaps you meant http://?\n",
            "Error  Invalid URL '': No schema supplied. Perhaps you meant http://?\n",
            "Error  Invalid URL '': No schema supplied. Perhaps you meant http://?\n",
            "Error  Invalid URL '': No schema supplied. Perhaps you meant http://?\n",
            "Error  Invalid URL '': No schema supplied. Perhaps you meant http://?\n",
            "Error  Invalid URL '': No schema supplied. Perhaps you meant http://?\n",
            "Error  Invalid URL '': No schema supplied. Perhaps you meant http://?\n",
            "Error  Invalid URL '': No schema supplied. Perhaps you meant http://?\n",
            "Error  Invalid URL '': No schema supplied. Perhaps you meant http://?\n",
            "Error  Invalid URL '': No schema supplied. Perhaps you meant http://?\n",
            "Error  Invalid URL '': No schema supplied. Perhaps you meant http://?\n",
            "Error  Invalid URL '': No schema supplied. Perhaps you meant http://?\n",
            "Error  Invalid URL '': No schema supplied. Perhaps you meant http://?\n",
            "Error  Invalid URL '': No schema supplied. Perhaps you meant http://?\n",
            "Error  Invalid URL '': No schema supplied. Perhaps you meant http://?\n",
            "Error  Invalid URL '': No schema supplied. Perhaps you meant http://?\n",
            "Error  Invalid URL '': No schema supplied. Perhaps you meant http://?\n",
            "Error  Invalid URL '': No schema supplied. Perhaps you meant http://?\n",
            "Error  Invalid URL '': No schema supplied. Perhaps you meant http://?\n",
            "Error  Invalid URL '': No schema supplied. Perhaps you meant http://?\n",
            "Error  Invalid URL '': No schema supplied. Perhaps you meant http://?\n",
            "Error  Invalid URL '': No schema supplied. Perhaps you meant http://?\n",
            "Error  Invalid URL '': No schema supplied. Perhaps you meant http://?\n",
            "Error  Invalid URL '': No schema supplied. Perhaps you meant http://?\n",
            "Error  Invalid URL '': No schema supplied. Perhaps you meant http://?\n",
            "Error  Invalid URL '': No schema supplied. Perhaps you meant http://?\n",
            "Error  Invalid URL '': No schema supplied. Perhaps you meant http://?\n",
            "Error  Invalid URL '': No schema supplied. Perhaps you meant http://?\n",
            "Error  Invalid URL '': No schema supplied. Perhaps you meant http://?\n",
            "Error  Invalid URL '': No schema supplied. Perhaps you meant http://?\n",
            "Error  Invalid URL '': No schema supplied. Perhaps you meant http://?\n",
            "Error  Invalid URL '': No schema supplied. Perhaps you meant http://?\n",
            "Error  Invalid URL '': No schema supplied. Perhaps you meant http://?\n",
            "Error  Invalid URL '': No schema supplied. Perhaps you meant http://?\n",
            "Error  Invalid URL '': No schema supplied. Perhaps you meant http://?\n",
            "Error  Invalid URL '': No schema supplied. Perhaps you meant http://?\n",
            "Error  Invalid URL '': No schema supplied. Perhaps you meant http://?\n",
            "Error  Invalid URL '': No schema supplied. Perhaps you meant http://?\n",
            "Error  Invalid URL '': No schema supplied. Perhaps you meant http://?\n",
            "Error  Invalid URL '': No schema supplied. Perhaps you meant http://?\n",
            "Error  Invalid URL '': No schema supplied. Perhaps you meant http://?\n",
            "Error  Invalid URL '': No schema supplied. Perhaps you meant http://?\n",
            "Error  Invalid URL '': No schema supplied. Perhaps you meant http://?\n",
            "Error  Invalid URL '': No schema supplied. Perhaps you meant http://?\n",
            "Error  Invalid URL '': No schema supplied. Perhaps you meant http://?\n",
            "Error  Invalid URL '': No schema supplied. Perhaps you meant http://?\n",
            "Error  Invalid URL '': No schema supplied. Perhaps you meant http://?\n",
            "Error  Invalid URL '': No schema supplied. Perhaps you meant http://?\n",
            "Error  Invalid URL '': No schema supplied. Perhaps you meant http://?\n",
            "Error  Invalid URL '': No schema supplied. Perhaps you meant http://?\n",
            "Error  Invalid URL '': No schema supplied. Perhaps you meant http://?\n",
            "Error  Invalid URL '': No schema supplied. Perhaps you meant http://?\n",
            "Error  Invalid URL '': No schema supplied. Perhaps you meant http://?\n",
            "Error  Invalid URL '': No schema supplied. Perhaps you meant http://?\n",
            "Error  Invalid URL '': No schema supplied. Perhaps you meant http://?\n",
            "Error  Invalid URL '': No schema supplied. Perhaps you meant http://?\n",
            "Error  Invalid URL '': No schema supplied. Perhaps you meant http://?\n",
            "Error  Invalid URL '': No schema supplied. Perhaps you meant http://?\n",
            "Error  Invalid URL '': No schema supplied. Perhaps you meant http://?\n",
            "Error  Invalid URL '': No schema supplied. Perhaps you meant http://?\n",
            "Error  Invalid URL '': No schema supplied. Perhaps you meant http://?\n",
            "Error  Invalid URL '': No schema supplied. Perhaps you meant http://?\n",
            "Error  Invalid URL '': No schema supplied. Perhaps you meant http://?\n",
            "Error  Invalid URL '': No schema supplied. Perhaps you meant http://?\n",
            "Error  Invalid URL '': No schema supplied. Perhaps you meant http://?\n",
            "Error  Invalid URL '': No schema supplied. Perhaps you meant http://?\n",
            "Error  Invalid URL '': No schema supplied. Perhaps you meant http://?\n",
            "Error  Invalid URL '': No schema supplied. Perhaps you meant http://?\n",
            "Error  Invalid URL '': No schema supplied. Perhaps you meant http://?\n",
            "Error  Invalid URL '': No schema supplied. Perhaps you meant http://?\n",
            "Error  Invalid URL '': No schema supplied. Perhaps you meant http://?\n",
            "Error  Invalid URL '': No schema supplied. Perhaps you meant http://?\n",
            "Error  Invalid URL '': No schema supplied. Perhaps you meant http://?\n",
            "Error  Invalid URL '': No schema supplied. Perhaps you meant http://?\n",
            "Error  Invalid URL '': No schema supplied. Perhaps you meant http://?\n",
            "Error  Invalid URL '': No schema supplied. Perhaps you meant http://?\n",
            "Error  Invalid URL '': No schema supplied. Perhaps you meant http://?\n",
            "Error  Invalid URL '': No schema supplied. Perhaps you meant http://?\n",
            "Error  Invalid URL '': No schema supplied. Perhaps you meant http://?\n",
            "Error  Invalid URL '': No schema supplied. Perhaps you meant http://?\n",
            "Error  Invalid URL '': No schema supplied. Perhaps you meant http://?\n",
            "Error  Invalid URL '': No schema supplied. Perhaps you meant http://?\n",
            "Error  Invalid URL '': No schema supplied. Perhaps you meant http://?\n",
            "Error  Invalid URL '': No schema supplied. Perhaps you meant http://?\n"
          ],
          "name": "stdout"
        }
      ]
    },
    {
      "cell_type": "code",
      "metadata": {
        "id": "Df7VaxMZLkhE",
        "colab_type": "code",
        "colab": {},
        "outputId": "fb83c595-16d8-4d73-b3bd-e8bfe69f7957"
      },
      "source": [
        "# If you have problems download, try with `max_workers=0` to see exceptions:\n",
        "download_images(path/file, dest, max_pics=20, max_workers=0)"
      ],
      "execution_count": 0,
      "outputs": [
        {
          "output_type": "display_data",
          "data": {
            "text/html": [
              ""
            ],
            "text/plain": [
              "<IPython.core.display.HTML object>"
            ]
          },
          "metadata": {
            "tags": []
          }
        }
      ]
    },
    {
      "cell_type": "markdown",
      "metadata": {
        "id": "46SP5ivALkhM",
        "colab_type": "text"
      },
      "source": [
        "Then we can remove any images that can't be opened:"
      ]
    },
    {
      "cell_type": "code",
      "metadata": {
        "id": "MAO_cp1rLkhN",
        "colab_type": "code",
        "colab": {},
        "outputId": "68d73b70-6b22-418d-be7d-848038fded9f"
      },
      "source": [
        "for c in classes:\n",
        "    print(c)\n",
        "    verify_images(path/c, delete=True, max_size=500)"
      ],
      "execution_count": 0,
      "outputs": [
        {
          "output_type": "stream",
          "text": [
            "taycan\n"
          ],
          "name": "stdout"
        },
        {
          "output_type": "display_data",
          "data": {
            "text/html": [
              ""
            ],
            "text/plain": [
              "<IPython.core.display.HTML object>"
            ]
          },
          "metadata": {
            "tags": []
          }
        },
        {
          "output_type": "stream",
          "text": [
            "panamera\n"
          ],
          "name": "stdout"
        },
        {
          "output_type": "display_data",
          "data": {
            "text/html": [
              ""
            ],
            "text/plain": [
              "<IPython.core.display.HTML object>"
            ]
          },
          "metadata": {
            "tags": []
          }
        },
        {
          "output_type": "stream",
          "text": [
            "macan\n"
          ],
          "name": "stdout"
        },
        {
          "output_type": "display_data",
          "data": {
            "text/html": [
              ""
            ],
            "text/plain": [
              "<IPython.core.display.HTML object>"
            ]
          },
          "metadata": {
            "tags": []
          }
        },
        {
          "output_type": "stream",
          "text": [
            "cayenne\n"
          ],
          "name": "stdout"
        },
        {
          "output_type": "display_data",
          "data": {
            "text/html": [
              ""
            ],
            "text/plain": [
              "<IPython.core.display.HTML object>"
            ]
          },
          "metadata": {
            "tags": []
          }
        },
        {
          "output_type": "stream",
          "text": [
            "718\n"
          ],
          "name": "stdout"
        },
        {
          "output_type": "display_data",
          "data": {
            "text/html": [
              ""
            ],
            "text/plain": [
              "<IPython.core.display.HTML object>"
            ]
          },
          "metadata": {
            "tags": []
          }
        },
        {
          "output_type": "stream",
          "text": [
            "911\n"
          ],
          "name": "stdout"
        },
        {
          "output_type": "display_data",
          "data": {
            "text/html": [
              ""
            ],
            "text/plain": [
              "<IPython.core.display.HTML object>"
            ]
          },
          "metadata": {
            "tags": []
          }
        }
      ]
    },
    {
      "cell_type": "markdown",
      "metadata": {
        "id": "ws0iDaFbLkhV",
        "colab_type": "text"
      },
      "source": [
        "## View data"
      ]
    },
    {
      "cell_type": "code",
      "metadata": {
        "id": "NZaPdLdhLkhV",
        "colab_type": "code",
        "colab": {}
      },
      "source": [
        "np.random.seed(42)\n",
        "data = ImageDataBunch.from_folder(path, train=\".\", valid_pct=0.2,\n",
        "        ds_tfms=get_transforms(), size=224, num_workers=4).normalize(imagenet_stats)"
      ],
      "execution_count": 0,
      "outputs": []
    },
    {
      "cell_type": "code",
      "metadata": {
        "id": "lGQJNYc0Lkha",
        "colab_type": "code",
        "colab": {},
        "outputId": "9a0b46c2-2965-4ca8-b83a-a8de32c430b4"
      },
      "source": [
        ""
      ],
      "execution_count": 0,
      "outputs": [
        {
          "output_type": "error",
          "ename": "NameError",
          "evalue": "name 'chdirs' is not defined",
          "traceback": [
            "\u001b[0;31m---------------------------------------------------------------------------\u001b[0m",
            "\u001b[0;31mNameError\u001b[0m                                 Traceback (most recent call last)",
            "\u001b[0;32m<ipython-input-56-52a53e52a75a>\u001b[0m in \u001b[0;36m<module>\u001b[0;34m\u001b[0m\n\u001b[0;32m----> 1\u001b[0;31m \u001b[0mchdirs\u001b[0m\u001b[0;34m\u001b[0m\u001b[0;34m\u001b[0m\u001b[0m\n\u001b[0m",
            "\u001b[0;31mNameError\u001b[0m: name 'chdirs' is not defined"
          ]
        }
      ]
    },
    {
      "cell_type": "code",
      "metadata": {
        "id": "2i-6gUxzLkhe",
        "colab_type": "code",
        "colab": {}
      },
      "source": [
        " #If you already cleaned your data, run this cell instead of the one before\n",
        " np.random.seed(42)\n",
        " data = ImageDataBunch.from_csv(path, folder=\".\", valid_pct=0.2, csv_labels='cleaned.csv',\n",
        "         ds_tfms=get_transforms(), size=224, num_workers=4).normalize(imagenet_stats)"
      ],
      "execution_count": 0,
      "outputs": []
    },
    {
      "cell_type": "markdown",
      "metadata": {
        "id": "7DHisybULkhk",
        "colab_type": "text"
      },
      "source": [
        "Good! Let's take a look at some of our pictures then."
      ]
    },
    {
      "cell_type": "code",
      "metadata": {
        "id": "TleGgEcgLkhl",
        "colab_type": "code",
        "colab": {},
        "outputId": "24cd9eaf-7099-49ae-b87b-878566c6b18d"
      },
      "source": [
        "data.classes"
      ],
      "execution_count": 0,
      "outputs": [
        {
          "output_type": "execute_result",
          "data": {
            "text/plain": [
              "['718', '911', 'cayenne', 'macan', 'panamera', 'taycan']"
            ]
          },
          "metadata": {
            "tags": []
          },
          "execution_count": 39
        }
      ]
    },
    {
      "cell_type": "code",
      "metadata": {
        "id": "gcKhpydFLkhp",
        "colab_type": "code",
        "colab": {},
        "outputId": "b422b4b9-f6db-43d4-ce22-af0c47775235"
      },
      "source": [
        "data.show_batch(rows=6, figsize=(7,8))"
      ],
      "execution_count": 0,
      "outputs": [
        {
          "output_type": "display_data",
          "data": {
            "image/png": "[encoded data removed]",
            "text/plain": [
              "<Figure size 504x576 with 36 Axes>"
            ]
          },
          "metadata": {
            "tags": [],
            "needs_background": "light"
          }
        }
      ]
    },
    {
      "cell_type": "code",
      "metadata": {
        "id": "FKkJbsr_Lkhu",
        "colab_type": "code",
        "colab": {},
        "outputId": "7fbfb72e-03a8-4642-e0de-d68a1b00b1d5"
      },
      "source": [
        "data.classes, data.c, len(data.train_ds), len(data.valid_ds)"
      ],
      "execution_count": 0,
      "outputs": [
        {
          "output_type": "execute_result",
          "data": {
            "text/plain": [
              "(['718', '911', 'cayenne', 'macan', 'panamera', 'taycan'], 6, 1920, 480)"
            ]
          },
          "metadata": {
            "tags": []
          },
          "execution_count": 42
        }
      ]
    },
    {
      "cell_type": "markdown",
      "metadata": {
        "id": "wBSdA0LxLkhz",
        "colab_type": "text"
      },
      "source": [
        "## Train model"
      ]
    },
    {
      "cell_type": "code",
      "metadata": {
        "id": "ZP8MGEAGLkhz",
        "colab_type": "code",
        "colab": {}
      },
      "source": [
        "learn = cnn_learner(data, models.resnet50, metrics=error_rate)"
      ],
      "execution_count": 0,
      "outputs": []
    },
    {
      "cell_type": "code",
      "metadata": {
        "id": "ijtbEkwHLkh4",
        "colab_type": "code",
        "colab": {},
        "outputId": "5bbef7e6-8cf0-4af9-f658-3e6a6f4dbd1b"
      },
      "source": [
        "learn.fit_one_cycle(40)"
      ],
      "execution_count": 0,
      "outputs": [
        {
          "output_type": "display_data",
          "data": {
            "text/html": [
              "<table border=\"1\" class=\"dataframe\">\n",
              "  <thead>\n",
              "    <tr style=\"text-align: left;\">\n",
              "      <th>epoch</th>\n",
              "      <th>train_loss</th>\n",
              "      <th>valid_loss</th>\n",
              "      <th>error_rate</th>\n",
              "      <th>time</th>\n",
              "    </tr>\n",
              "  </thead>\n",
              "  <tbody>\n",
              "    <tr>\n",
              "      <td>0</td>\n",
              "      <td>2.608914</td>\n",
              "      <td>1.610778</td>\n",
              "      <td>0.606250</td>\n",
              "      <td>00:09</td>\n",
              "    </tr>\n",
              "    <tr>\n",
              "      <td>1</td>\n",
              "      <td>2.229989</td>\n",
              "      <td>1.467350</td>\n",
              "      <td>0.531250</td>\n",
              "      <td>00:09</td>\n",
              "    </tr>\n",
              "    <tr>\n",
              "      <td>2</td>\n",
              "      <td>1.992984</td>\n",
              "      <td>1.457949</td>\n",
              "      <td>0.495833</td>\n",
              "      <td>00:10</td>\n",
              "    </tr>\n",
              "    <tr>\n",
              "      <td>3</td>\n",
              "      <td>1.800289</td>\n",
              "      <td>1.435493</td>\n",
              "      <td>0.481250</td>\n",
              "      <td>00:09</td>\n",
              "    </tr>\n",
              "    <tr>\n",
              "      <td>4</td>\n",
              "      <td>1.639752</td>\n",
              "      <td>1.454458</td>\n",
              "      <td>0.479167</td>\n",
              "      <td>00:09</td>\n",
              "    </tr>\n",
              "    <tr>\n",
              "      <td>5</td>\n",
              "      <td>1.502409</td>\n",
              "      <td>1.400133</td>\n",
              "      <td>0.464583</td>\n",
              "      <td>00:09</td>\n",
              "    </tr>\n",
              "    <tr>\n",
              "      <td>6</td>\n",
              "      <td>1.371669</td>\n",
              "      <td>1.300878</td>\n",
              "      <td>0.450000</td>\n",
              "      <td>00:10</td>\n",
              "    </tr>\n",
              "    <tr>\n",
              "      <td>7</td>\n",
              "      <td>1.258696</td>\n",
              "      <td>1.236995</td>\n",
              "      <td>0.418750</td>\n",
              "      <td>00:09</td>\n",
              "    </tr>\n",
              "    <tr>\n",
              "      <td>8</td>\n",
              "      <td>1.138708</td>\n",
              "      <td>1.241532</td>\n",
              "      <td>0.418750</td>\n",
              "      <td>00:09</td>\n",
              "    </tr>\n",
              "    <tr>\n",
              "      <td>9</td>\n",
              "      <td>1.043424</td>\n",
              "      <td>1.175137</td>\n",
              "      <td>0.406250</td>\n",
              "      <td>00:10</td>\n",
              "    </tr>\n",
              "    <tr>\n",
              "      <td>10</td>\n",
              "      <td>0.984921</td>\n",
              "      <td>1.146469</td>\n",
              "      <td>0.385417</td>\n",
              "      <td>00:10</td>\n",
              "    </tr>\n",
              "    <tr>\n",
              "      <td>11</td>\n",
              "      <td>0.927935</td>\n",
              "      <td>1.169490</td>\n",
              "      <td>0.379167</td>\n",
              "      <td>00:10</td>\n",
              "    </tr>\n",
              "    <tr>\n",
              "      <td>12</td>\n",
              "      <td>0.876125</td>\n",
              "      <td>1.170498</td>\n",
              "      <td>0.391667</td>\n",
              "      <td>00:10</td>\n",
              "    </tr>\n",
              "    <tr>\n",
              "      <td>13</td>\n",
              "      <td>0.825623</td>\n",
              "      <td>1.195051</td>\n",
              "      <td>0.375000</td>\n",
              "      <td>00:10</td>\n",
              "    </tr>\n",
              "    <tr>\n",
              "      <td>14</td>\n",
              "      <td>0.765536</td>\n",
              "      <td>1.155461</td>\n",
              "      <td>0.364583</td>\n",
              "      <td>00:10</td>\n",
              "    </tr>\n",
              "    <tr>\n",
              "      <td>15</td>\n",
              "      <td>0.727942</td>\n",
              "      <td>1.145015</td>\n",
              "      <td>0.381250</td>\n",
              "      <td>00:10</td>\n",
              "    </tr>\n",
              "    <tr>\n",
              "      <td>16</td>\n",
              "      <td>0.688683</td>\n",
              "      <td>1.260339</td>\n",
              "      <td>0.387500</td>\n",
              "      <td>00:10</td>\n",
              "    </tr>\n",
              "    <tr>\n",
              "      <td>17</td>\n",
              "      <td>0.637377</td>\n",
              "      <td>1.175742</td>\n",
              "      <td>0.366667</td>\n",
              "      <td>00:10</td>\n",
              "    </tr>\n",
              "    <tr>\n",
              "      <td>18</td>\n",
              "      <td>0.608817</td>\n",
              "      <td>1.228916</td>\n",
              "      <td>0.385417</td>\n",
              "      <td>00:10</td>\n",
              "    </tr>\n",
              "    <tr>\n",
              "      <td>19</td>\n",
              "      <td>0.572675</td>\n",
              "      <td>1.248361</td>\n",
              "      <td>0.379167</td>\n",
              "      <td>00:09</td>\n",
              "    </tr>\n",
              "    <tr>\n",
              "      <td>20</td>\n",
              "      <td>0.555676</td>\n",
              "      <td>1.256141</td>\n",
              "      <td>0.364583</td>\n",
              "      <td>00:10</td>\n",
              "    </tr>\n",
              "    <tr>\n",
              "      <td>21</td>\n",
              "      <td>0.511557</td>\n",
              "      <td>1.273524</td>\n",
              "      <td>0.375000</td>\n",
              "      <td>00:10</td>\n",
              "    </tr>\n",
              "    <tr>\n",
              "      <td>22</td>\n",
              "      <td>0.483267</td>\n",
              "      <td>1.251337</td>\n",
              "      <td>0.362500</td>\n",
              "      <td>00:10</td>\n",
              "    </tr>\n",
              "    <tr>\n",
              "      <td>23</td>\n",
              "      <td>0.436271</td>\n",
              "      <td>1.288411</td>\n",
              "      <td>0.354167</td>\n",
              "      <td>00:10</td>\n",
              "    </tr>\n",
              "    <tr>\n",
              "      <td>24</td>\n",
              "      <td>0.415738</td>\n",
              "      <td>1.234846</td>\n",
              "      <td>0.364583</td>\n",
              "      <td>00:10</td>\n",
              "    </tr>\n",
              "    <tr>\n",
              "      <td>25</td>\n",
              "      <td>0.397631</td>\n",
              "      <td>1.279648</td>\n",
              "      <td>0.354167</td>\n",
              "      <td>00:10</td>\n",
              "    </tr>\n",
              "    <tr>\n",
              "      <td>26</td>\n",
              "      <td>0.377773</td>\n",
              "      <td>1.224547</td>\n",
              "      <td>0.347917</td>\n",
              "      <td>00:10</td>\n",
              "    </tr>\n",
              "    <tr>\n",
              "      <td>27</td>\n",
              "      <td>0.352112</td>\n",
              "      <td>1.226564</td>\n",
              "      <td>0.339583</td>\n",
              "      <td>00:09</td>\n",
              "    </tr>\n",
              "    <tr>\n",
              "      <td>28</td>\n",
              "      <td>0.338672</td>\n",
              "      <td>1.195467</td>\n",
              "      <td>0.341667</td>\n",
              "      <td>00:10</td>\n",
              "    </tr>\n",
              "    <tr>\n",
              "      <td>29</td>\n",
              "      <td>0.328226</td>\n",
              "      <td>1.212193</td>\n",
              "      <td>0.347917</td>\n",
              "      <td>00:10</td>\n",
              "    </tr>\n",
              "    <tr>\n",
              "      <td>30</td>\n",
              "      <td>0.296725</td>\n",
              "      <td>1.213175</td>\n",
              "      <td>0.339583</td>\n",
              "      <td>00:10</td>\n",
              "    </tr>\n",
              "    <tr>\n",
              "      <td>31</td>\n",
              "      <td>0.290399</td>\n",
              "      <td>1.222019</td>\n",
              "      <td>0.327083</td>\n",
              "      <td>00:10</td>\n",
              "    </tr>\n",
              "    <tr>\n",
              "      <td>32</td>\n",
              "      <td>0.263940</td>\n",
              "      <td>1.222777</td>\n",
              "      <td>0.327083</td>\n",
              "      <td>00:10</td>\n",
              "    </tr>\n",
              "    <tr>\n",
              "      <td>33</td>\n",
              "      <td>0.258763</td>\n",
              "      <td>1.207108</td>\n",
              "      <td>0.322917</td>\n",
              "      <td>00:10</td>\n",
              "    </tr>\n",
              "    <tr>\n",
              "      <td>34</td>\n",
              "      <td>0.253563</td>\n",
              "      <td>1.217487</td>\n",
              "      <td>0.329167</td>\n",
              "      <td>00:10</td>\n",
              "    </tr>\n",
              "    <tr>\n",
              "      <td>35</td>\n",
              "      <td>0.236343</td>\n",
              "      <td>1.217709</td>\n",
              "      <td>0.322917</td>\n",
              "      <td>00:10</td>\n",
              "    </tr>\n",
              "    <tr>\n",
              "      <td>36</td>\n",
              "      <td>0.221070</td>\n",
              "      <td>1.228969</td>\n",
              "      <td>0.325000</td>\n",
              "      <td>00:10</td>\n",
              "    </tr>\n",
              "    <tr>\n",
              "      <td>37</td>\n",
              "      <td>0.230405</td>\n",
              "      <td>1.240643</td>\n",
              "      <td>0.327083</td>\n",
              "      <td>00:10</td>\n",
              "    </tr>\n",
              "    <tr>\n",
              "      <td>38</td>\n",
              "      <td>0.217511</td>\n",
              "      <td>1.230480</td>\n",
              "      <td>0.318750</td>\n",
              "      <td>00:10</td>\n",
              "    </tr>\n",
              "    <tr>\n",
              "      <td>39</td>\n",
              "      <td>0.209594</td>\n",
              "      <td>1.243002</td>\n",
              "      <td>0.318750</td>\n",
              "      <td>00:10</td>\n",
              "    </tr>\n",
              "  </tbody>\n",
              "</table>"
            ],
            "text/plain": [
              "<IPython.core.display.HTML object>"
            ]
          },
          "metadata": {
            "tags": []
          }
        }
      ]
    },
    {
      "cell_type": "code",
      "metadata": {
        "id": "eqK0Al5GLkiB",
        "colab_type": "code",
        "colab": {}
      },
      "source": [
        "learn.save('stage-1')"
      ],
      "execution_count": 0,
      "outputs": []
    },
    {
      "cell_type": "code",
      "metadata": {
        "id": "jzA9X5EmLkiF",
        "colab_type": "code",
        "colab": {}
      },
      "source": [
        "learn.unfreeze()"
      ],
      "execution_count": 0,
      "outputs": []
    },
    {
      "cell_type": "code",
      "metadata": {
        "id": "Z4msCiORLkiM",
        "colab_type": "code",
        "colab": {},
        "outputId": "4812f99a-6412-42a0-80ad-5937f1a59ac1"
      },
      "source": [
        "learn.lr_find()"
      ],
      "execution_count": 0,
      "outputs": [
        {
          "output_type": "display_data",
          "data": {
            "text/html": [
              "\n",
              "    <div>\n",
              "        <style>\n",
              "            /* Turns off some styling */\n",
              "            progress {\n",
              "                /* gets rid of default border in Firefox and Opera. */\n",
              "                border: none;\n",
              "                /* Needs to be in here for Safari polyfill so background images work as expected. */\n",
              "                background-size: auto;\n",
              "            }\n",
              "            .progress-bar-interrupted, .progress-bar-interrupted::-webkit-progress-bar {\n",
              "                background: #F44336;\n",
              "            }\n",
              "        </style>\n",
              "      <progress value='1' class='' max='4', style='width:300px; height:20px; vertical-align: middle;'></progress>\n",
              "      25.00% [1/4 00:12<00:37]\n",
              "    </div>\n",
              "    \n",
              "<table border=\"1\" class=\"dataframe\">\n",
              "  <thead>\n",
              "    <tr style=\"text-align: left;\">\n",
              "      <th>epoch</th>\n",
              "      <th>train_loss</th>\n",
              "      <th>valid_loss</th>\n",
              "      <th>error_rate</th>\n",
              "      <th>time</th>\n",
              "    </tr>\n",
              "  </thead>\n",
              "  <tbody>\n",
              "    <tr>\n",
              "      <td>0</td>\n",
              "      <td>0.196860</td>\n",
              "      <td>#na#</td>\n",
              "      <td>00:12</td>\n",
              "    </tr>\n",
              "  </tbody>\n",
              "</table><p>\n",
              "\n",
              "    <div>\n",
              "        <style>\n",
              "            /* Turns off some styling */\n",
              "            progress {\n",
              "                /* gets rid of default border in Firefox and Opera. */\n",
              "                border: none;\n",
              "                /* Needs to be in here for Safari polyfill so background images work as expected. */\n",
              "                background-size: auto;\n",
              "            }\n",
              "            .progress-bar-interrupted, .progress-bar-interrupted::-webkit-progress-bar {\n",
              "                background: #F44336;\n",
              "            }\n",
              "        </style>\n",
              "      <progress value='25' class='' max='30', style='width:300px; height:20px; vertical-align: middle;'></progress>\n",
              "      83.33% [25/30 00:10<00:02 0.6416]\n",
              "    </div>\n",
              "    "
            ],
            "text/plain": [
              "<IPython.core.display.HTML object>"
            ]
          },
          "metadata": {
            "tags": []
          }
        },
        {
          "output_type": "stream",
          "text": [
            "LR Finder is complete, type {learner_name}.recorder.plot() to see the graph.\n"
          ],
          "name": "stdout"
        }
      ]
    },
    {
      "cell_type": "code",
      "metadata": {
        "id": "JpN41BTPLkiP",
        "colab_type": "code",
        "colab": {},
        "outputId": "43d666ba-9871-4239-eb8e-726dad04b9b5"
      },
      "source": [
        "# If the plot is not showing try to give a start and end learning rate\n",
        "# learn.lr_find(start_lr=1e-5, end_lr=1e-1)\n",
        "learn.recorder.plot()"
      ],
      "execution_count": 0,
      "outputs": [
        {
          "output_type": "display_data",
          "data": {
            "image/png": "[encoded data removed]",
            "text/plain": [
              "<Figure size 432x288 with 1 Axes>"
            ]
          },
          "metadata": {
            "tags": [],
            "needs_background": "light"
          }
        }
      ]
    },
    {
      "cell_type": "code",
      "metadata": {
        "id": "68wNiQt5LkiU",
        "colab_type": "code",
        "colab": {},
        "outputId": "042c02f1-a171-4698-86ba-06ce753d71cc"
      },
      "source": [
        "learn.fit_one_cycle(2, max_lr=slice(3e-5,3e-4))"
      ],
      "execution_count": 0,
      "outputs": [
        {
          "output_type": "display_data",
          "data": {
            "text/html": [
              "<table border=\"1\" class=\"dataframe\">\n",
              "  <thead>\n",
              "    <tr style=\"text-align: left;\">\n",
              "      <th>epoch</th>\n",
              "      <th>train_loss</th>\n",
              "      <th>valid_loss</th>\n",
              "      <th>error_rate</th>\n",
              "      <th>time</th>\n",
              "    </tr>\n",
              "  </thead>\n",
              "  <tbody>\n",
              "    <tr>\n",
              "      <td>0</td>\n",
              "      <td>0.280386</td>\n",
              "      <td>1.524914</td>\n",
              "      <td>0.372917</td>\n",
              "      <td>00:13</td>\n",
              "    </tr>\n",
              "    <tr>\n",
              "      <td>1</td>\n",
              "      <td>0.276844</td>\n",
              "      <td>1.312542</td>\n",
              "      <td>0.345833</td>\n",
              "      <td>00:13</td>\n",
              "    </tr>\n",
              "  </tbody>\n",
              "</table>"
            ],
            "text/plain": [
              "<IPython.core.display.HTML object>"
            ]
          },
          "metadata": {
            "tags": []
          }
        }
      ]
    },
    {
      "cell_type": "code",
      "metadata": {
        "id": "x-J04EfpLkiY",
        "colab_type": "code",
        "colab": {}
      },
      "source": [
        "learn.save('stage-2')"
      ],
      "execution_count": 0,
      "outputs": []
    },
    {
      "cell_type": "markdown",
      "metadata": {
        "id": "WLm5BwbzLkie",
        "colab_type": "text"
      },
      "source": [
        "## Interpretation"
      ]
    },
    {
      "cell_type": "code",
      "metadata": {
        "id": "nmZPxIz8Lkif",
        "colab_type": "code",
        "colab": {}
      },
      "source": [
        "learn.load('stage-2');"
      ],
      "execution_count": 0,
      "outputs": []
    },
    {
      "cell_type": "code",
      "metadata": {
        "id": "Qo5zQlZrLkii",
        "colab_type": "code",
        "colab": {},
        "outputId": "ab792a8c-8360-4fb0-ec98-44acc475cd9c"
      },
      "source": [
        "interp = ClassificationInterpretation.from_learner(learn)"
      ],
      "execution_count": 0,
      "outputs": [
        {
          "output_type": "display_data",
          "data": {
            "text/html": [
              ""
            ],
            "text/plain": [
              "<IPython.core.display.HTML object>"
            ]
          },
          "metadata": {
            "tags": []
          }
        }
      ]
    },
    {
      "cell_type": "code",
      "metadata": {
        "id": "oXAl0NwCLkil",
        "colab_type": "code",
        "colab": {},
        "outputId": "357a4580-5284-4644-a462-7fa66949f499"
      },
      "source": [
        "interp.plot_confusion_matrix()"
      ],
      "execution_count": 0,
      "outputs": [
        {
          "output_type": "display_data",
          "data": {
            "image/png": "[encoded data removed]",
            "text/plain": [
              "<Figure size 432x288 with 1 Axes>"
            ]
          },
          "metadata": {
            "tags": [],
            "needs_background": "light"
          }
        }
      ]
    },
    {
      "cell_type": "markdown",
      "metadata": {
        "id": "01yLDtvHLkip",
        "colab_type": "text"
      },
      "source": [
        "## Cleaning Up\n",
        "\n",
        "Some of our top losses aren't due to bad performance by our model. There are images in our data set that shouldn't be.\n",
        "\n",
        "Using the `ImageCleaner` widget from `fastai.widgets` we can prune our top losses, removing photos that don't belong."
      ]
    },
    {
      "cell_type": "code",
      "metadata": {
        "id": "1_8GZKGYLkiu",
        "colab_type": "code",
        "colab": {}
      },
      "source": [
        "from fastai.widgets import *"
      ],
      "execution_count": 0,
      "outputs": []
    },
    {
      "cell_type": "markdown",
      "metadata": {
        "id": "AI4sQFLFLki0",
        "colab_type": "text"
      },
      "source": [
        "First we need to get the file paths from our top_losses. We can do this with `.from_toplosses`. We then feed the top losses indexes and corresponding dataset to `ImageCleaner`.\n",
        "\n",
        "Notice that the widget will not delete images directly from disk but it will create a new csv file `cleaned.csv` from where you can create a new ImageDataBunch with the corrected labels to continue training your model."
      ]
    },
    {
      "cell_type": "code",
      "metadata": {
        "id": "69WgyAtOLki2",
        "colab_type": "code",
        "colab": {}
      },
      "source": [
        "db = (ImageList.from_folder(path)\n",
        "                   .split_none()\n",
        "                   .label_from_folder()\n",
        "                   .transform(get_transforms(), size=224)\n",
        "                   .databunch()\n",
        "     )"
      ],
      "execution_count": 0,
      "outputs": []
    },
    {
      "cell_type": "code",
      "metadata": {
        "id": "Ch2s14kGLki4",
        "colab_type": "code",
        "colab": {}
      },
      "source": [
        "# If you already cleaned your data using indexes from `from_toplosses`,\n",
        "# run this cell instead of the one before to proceed with removing duplicates.\n",
        "# Otherwise all the results of the previous step would be overwritten by\n",
        "# the new run of `ImageCleaner`.\n",
        "\n",
        " db = (ImageList.from_csv(path, 'cleaned.csv', folder='.')\n",
        "                    .split_none()\n",
        "                   .label_from_df()\n",
        "                   .transform(get_transforms(), size=224)\n",
        "                   .databunch()\n",
        "     )"
      ],
      "execution_count": 0,
      "outputs": []
    },
    {
      "cell_type": "markdown",
      "metadata": {
        "id": "UpaG64hJLkjL",
        "colab_type": "text"
      },
      "source": [
        "Then we create a new learner to use our new databunch with all the images."
      ]
    },
    {
      "cell_type": "code",
      "metadata": {
        "id": "gRFLifbFLkjL",
        "colab_type": "code",
        "colab": {}
      },
      "source": [
        "learn_cln = cnn_learner(db, models.resnet50, metrics=error_rate)\n",
        "\n",
        "learn_cln.load('stage-2');"
      ],
      "execution_count": 0,
      "outputs": []
    },
    {
      "cell_type": "code",
      "metadata": {
        "id": "ZBxEWvQWLkjO",
        "colab_type": "code",
        "colab": {},
        "outputId": "2389d83e-7f01-4c15-d208-89b3971d8b9f"
      },
      "source": [
        "ds, idxs = DatasetFormatter().from_toplosses(learn_cln)"
      ],
      "execution_count": 0,
      "outputs": [
        {
          "output_type": "display_data",
          "data": {
            "text/html": [
              ""
            ],
            "text/plain": [
              "<IPython.core.display.HTML object>"
            ]
          },
          "metadata": {
            "tags": []
          }
        }
      ]
    },
    {
      "cell_type": "code",
      "metadata": {
        "id": "y-8L7_a0LkjR",
        "colab_type": "code",
        "colab": {
          "referenced_widgets": [
            "378b634491354fef9d44e3d10f80323c",
            "037003fcaf1e4a3f9f225a6b13cd9481"
          ]
        },
        "outputId": "5ad5d1b0-a8f7-4cc2-aeb1-5fa00c73c8af"
      },
      "source": [
        "# Don't run this in google colab or any other instances running jupyter lab.\n",
        "# If you do run this on Jupyter Lab, you need to restart your runtime and\n",
        "# runtime state including all local variables will be lost.\n",
        "ImageCleaner(ds, idxs, path)"
      ],
      "execution_count": 0,
      "outputs": [
        {
          "output_type": "display_data",
          "data": {
            "application/vnd.jupyter.widget-view+json": {
              "model_id": "378b634491354fef9d44e3d10f80323c",
              "version_major": 2,
              "version_minor": 0
            },
            "text/plain": [
              "HBox(children=(VBox(children=(Image(value=b'\\xff\\xd8\\xff\\xe0\\x00\\x10JFIF\\x00\\x01\\x01\\x01\\x00d\\x00d\\x00\\x00\\xff…"
            ]
          },
          "metadata": {
            "tags": []
          }
        },
        {
          "output_type": "display_data",
          "data": {
            "application/vnd.jupyter.widget-view+json": {
              "model_id": "037003fcaf1e4a3f9f225a6b13cd9481",
              "version_major": 2,
              "version_minor": 0
            },
            "text/plain": [
              "Button(button_style='primary', description='Next Batch', layout=Layout(width='auto'), style=ButtonStyle())"
            ]
          },
          "metadata": {
            "tags": []
          }
        }
      ]
    },
    {
      "cell_type": "markdown",
      "metadata": {
        "id": "MLpJcIICLkjV",
        "colab_type": "text"
      },
      "source": [
        "Flag photos for deletion by clicking 'Delete'. Then click 'Next Batch' to delete flagged photos and keep the rest in that row. `ImageCleaner` will show you a new row of images until there are no more to show. In this case, the widget will show you images until there are none left from `top_losses.ImageCleaner(ds, idxs)`"
      ]
    },
    {
      "cell_type": "markdown",
      "metadata": {
        "id": "zg9e2Z97LkjV",
        "colab_type": "text"
      },
      "source": [
        "You can also find duplicates in your dataset and delete them! To do this, you need to run `.from_similars` to get the potential duplicates' ids and then run `ImageCleaner` with `duplicates=True`. The API works in a similar way as with misclassified images: just choose the ones you want to delete and click 'Next Batch' until there are no more images left."
      ]
    },
    {
      "cell_type": "markdown",
      "metadata": {
        "id": "uwjyijgSLkjV",
        "colab_type": "text"
      },
      "source": [
        "Make sure to recreate the databunch and `learn_cln` from the `cleaned.csv` file. Otherwise the file would be overwritten from scratch, losing all the results from cleaning the data from toplosses."
      ]
    },
    {
      "cell_type": "code",
      "metadata": {
        "id": "cSiJhphDLkjV",
        "colab_type": "code",
        "colab": {},
        "outputId": "0e7cda2a-cdff-458f-e1f2-387d0186598e"
      },
      "source": [
        "ds, idxs = DatasetFormatter().from_similars(learn_cln)"
      ],
      "execution_count": 0,
      "outputs": [
        {
          "output_type": "stream",
          "text": [
            "Getting activations...\n"
          ],
          "name": "stdout"
        },
        {
          "output_type": "display_data",
          "data": {
            "text/html": [
              "\n",
              "    <div>\n",
              "        <style>\n",
              "            /* Turns off some styling */\n",
              "            progress {\n",
              "                /* gets rid of default border in Firefox and Opera. */\n",
              "                border: none;\n",
              "                /* Needs to be in here for Safari polyfill so background images work as expected. */\n",
              "                background-size: auto;\n",
              "            }\n",
              "            .progress-bar-interrupted, .progress-bar-interrupted::-webkit-progress-bar {\n",
              "                background: #F44336;\n",
              "            }\n",
              "        </style>\n",
              "      <progress value='36' class='' max='36', style='width:300px; height:20px; vertical-align: middle;'></progress>\n",
              "      100.00% [36/36 00:05<00:00]\n",
              "    </div>\n",
              "    "
            ],
            "text/plain": [
              "<IPython.core.display.HTML object>"
            ]
          },
          "metadata": {
            "tags": []
          }
        },
        {
          "output_type": "stream",
          "text": [
            "Computing similarities...\n"
          ],
          "name": "stdout"
        }
      ]
    },
    {
      "cell_type": "code",
      "metadata": {
        "id": "6BUUzpV1LkjZ",
        "colab_type": "code",
        "colab": {
          "referenced_widgets": [
            "62817d6f7cc34fc2b9eb0caccbe92ec8",
            "03ca81c00b114eecbc2c9cea05df1ed9"
          ]
        },
        "outputId": "f54ec115-b594-4ffa-d4b7-8e82c624ee63"
      },
      "source": [
        "ImageCleaner(ds, idxs, path, duplicates=True)"
      ],
      "execution_count": 0,
      "outputs": [
        {
          "output_type": "display_data",
          "data": {
            "application/vnd.jupyter.widget-view+json": {
              "model_id": "62817d6f7cc34fc2b9eb0caccbe92ec8",
              "version_major": 2,
              "version_minor": 0
            },
            "text/plain": [
              "HBox(children=(VBox(children=(Image(value=b'\\xff\\xd8\\xff\\xe0\\x00\\x10JFIF\\x00\\x01\\x01\\x01\\x00d\\x00d\\x00\\x00\\xff…"
            ]
          },
          "metadata": {
            "tags": []
          }
        },
        {
          "output_type": "display_data",
          "data": {
            "application/vnd.jupyter.widget-view+json": {
              "model_id": "03ca81c00b114eecbc2c9cea05df1ed9",
              "version_major": 2,
              "version_minor": 0
            },
            "text/plain": [
              "Button(button_style='primary', description='Next Batch', layout=Layout(width='auto'), style=ButtonStyle())"
            ]
          },
          "metadata": {
            "tags": []
          }
        }
      ]
    },
    {
      "cell_type": "markdown",
      "metadata": {
        "id": "CzPj48r4Lkjc",
        "colab_type": "text"
      },
      "source": [
        "Remember to recreate your ImageDataBunch from your `cleaned.csv` to include the changes you made in your data!"
      ]
    },
    {
      "cell_type": "markdown",
      "metadata": {
        "id": "ns25HaEbLkjc",
        "colab_type": "text"
      },
      "source": [
        "## Putting your model in production"
      ]
    },
    {
      "cell_type": "markdown",
      "metadata": {
        "id": "3N6hayzfLkjd",
        "colab_type": "text"
      },
      "source": [
        "First thing first, let's export the content of our `Learner` object for production:"
      ]
    },
    {
      "cell_type": "code",
      "metadata": {
        "id": "B-RXwM3JLkje",
        "colab_type": "code",
        "colab": {}
      },
      "source": [
        "learn.export()"
      ],
      "execution_count": 0,
      "outputs": []
    },
    {
      "cell_type": "markdown",
      "metadata": {
        "id": "upLdrjEYLkjj",
        "colab_type": "text"
      },
      "source": [
        "This will create a file named 'export.pkl' in the directory where we were working that contains everything we need to deploy our model (the model, the weights but also some metadata like the classes or the transforms/normalization used)."
      ]
    },
    {
      "cell_type": "markdown",
      "metadata": {
        "id": "OMQcN_09Lkjj",
        "colab_type": "text"
      },
      "source": [
        "You probably want to use CPU for inference, except at massive scale (and you almost certainly don't need to train in real-time). If you don't have a GPU that happens automatically. You can test your model on CPU like so:"
      ]
    },
    {
      "cell_type": "code",
      "metadata": {
        "id": "4FsS2dHqLkjk",
        "colab_type": "code",
        "colab": {}
      },
      "source": [
        "defaults.device = torch.device('cpu')"
      ],
      "execution_count": 0,
      "outputs": []
    },
    {
      "cell_type": "code",
      "metadata": {
        "id": "r3NSFLbQLkjn",
        "colab_type": "code",
        "colab": {},
        "outputId": "590d0891-2f4b-4b56-89c3-ee9f0b3ffde8"
      },
      "source": [
        "img = open_image(path/'download.jpg')\n",
        "img"
      ],
      "execution_count": 0,
      "outputs": [
        {
          "output_type": "execute_result",
          "data": {
            "image/jpeg": "[encoded data removed]",
            "image/png": "[encoded data removed]",
            "text/plain": [
              "Image (3, 168, 300)"
            ]
          },
          "metadata": {
            "tags": []
          },
          "execution_count": 83
        }
      ]
    },
    {
      "cell_type": "markdown",
      "metadata": {
        "id": "fkTm2aY5Lkjp",
        "colab_type": "text"
      },
      "source": [
        "We create our `Learner` in production enviromnent like this, just make sure that `path` contains the file 'export.pkl' from before."
      ]
    },
    {
      "cell_type": "code",
      "metadata": {
        "id": "1aHzlriBLkjp",
        "colab_type": "code",
        "colab": {}
      },
      "source": [
        ""
      ],
      "execution_count": 0,
      "outputs": []
    },
    {
      "cell_type": "code",
      "metadata": {
        "id": "PZIpeWCaLkjs",
        "colab_type": "code",
        "colab": {}
      },
      "source": [
        "learn = load_learner(path)"
      ],
      "execution_count": 0,
      "outputs": []
    },
    {
      "cell_type": "code",
      "metadata": {
        "id": "chJgDfIjLkjz",
        "colab_type": "code",
        "colab": {},
        "outputId": "d84668be-76bc-4ec0-a685-be5c1e17c122"
      },
      "source": [
        "pred_class,pred_idx,outputs = learn.predict(img)\n",
        "pred_class"
      ],
      "execution_count": 0,
      "outputs": [
        {
          "output_type": "execute_result",
          "data": {
            "text/plain": [
              "Category panamera"
            ]
          },
          "metadata": {
            "tags": []
          },
          "execution_count": 82
        }
      ]
    },
    {
      "cell_type": "markdown",
      "metadata": {
        "id": "yNBuEb0rLkj1",
        "colab_type": "text"
      },
      "source": [
        "So you might create a route something like this ([thanks](https://github.com/simonw/cougar-or-not) to Simon Willison for the structure of this code):\n",
        "\n",
        "```python\n",
        "@app.route(\"/classify-url\", methods=[\"GET\"])\n",
        "async def classify_url(request):\n",
        "    bytes = await get_bytes(request.query_params[\"url\"])\n",
        "    img = open_image(BytesIO(bytes))\n",
        "    _,_,losses = learner.predict(img)\n",
        "    return JSONResponse({\n",
        "        \"predictions\": sorted(\n",
        "            zip(cat_learner.data.classes, map(float, losses)),\n",
        "            key=lambda p: p[1],\n",
        "            reverse=True\n",
        "        )\n",
        "    })\n",
        "```\n",
        "\n",
        "(This example is for the [Starlette](https://www.starlette.io/) web app toolkit.)"
      ]
    },
    {
      "cell_type": "markdown",
      "metadata": {
        "id": "8ek92zmcLkj2",
        "colab_type": "text"
      },
      "source": [
        "## Things that can go wrong"
      ]
    },
    {
      "cell_type": "markdown",
      "metadata": {
        "id": "WYEF_EBpLkj3",
        "colab_type": "text"
      },
      "source": [
        "- Most of the time things will train fine with the defaults\n",
        "- There's not much you really need to tune (despite what you've heard!)\n",
        "- Most likely are\n",
        "  - Learning rate\n",
        "  - Number of epochs"
      ]
    },
    {
      "cell_type": "markdown",
      "metadata": {
        "id": "GN_UONnILkj4",
        "colab_type": "text"
      },
      "source": [
        "### Learning rate (LR) too high"
      ]
    },
    {
      "cell_type": "code",
      "metadata": {
        "id": "j5TF3ghRLkj4",
        "colab_type": "code",
        "colab": {}
      },
      "source": [
        "learn = cnn_learner(data, models.resnet34, metrics=error_rate)"
      ],
      "execution_count": 0,
      "outputs": []
    },
    {
      "cell_type": "code",
      "metadata": {
        "id": "HNuE_shLLkj8",
        "colab_type": "code",
        "colab": {},
        "outputId": "34d68f12-bd0c-4bc5-ca28-83bad4a59e16"
      },
      "source": [
        "learn.fit_one_cycle(1, max_lr=0.5)"
      ],
      "execution_count": 0,
      "outputs": [
        {
          "output_type": "stream",
          "text": [
            "Total time: 00:13\n",
            "epoch  train_loss  valid_loss  error_rate       \n",
            "1      12.220007   1144188288.000000  0.765957    (00:13)\n",
            "\n"
          ],
          "name": "stdout"
        }
      ]
    },
    {
      "cell_type": "markdown",
      "metadata": {
        "id": "GrHgrH3pLkj_",
        "colab_type": "text"
      },
      "source": [
        "### Learning rate (LR) too low"
      ]
    },
    {
      "cell_type": "code",
      "metadata": {
        "id": "GQ38b7pfLkkB",
        "colab_type": "code",
        "colab": {}
      },
      "source": [
        "learn = cnn_learner(data, models.resnet34, metrics=error_rate)"
      ],
      "execution_count": 0,
      "outputs": []
    },
    {
      "cell_type": "markdown",
      "metadata": {
        "id": "_1jFkcA6LkkE",
        "colab_type": "text"
      },
      "source": [
        "Previously we had this result:\n",
        "\n",
        "```\n",
        "Total time: 00:57\n",
        "epoch  train_loss  valid_loss  error_rate\n",
        "1      1.030236    0.179226    0.028369    (00:14)\n",
        "2      0.561508    0.055464    0.014184    (00:13)\n",
        "3      0.396103    0.053801    0.014184    (00:13)\n",
        "4      0.316883    0.050197    0.021277    (00:15)\n",
        "```"
      ]
    },
    {
      "cell_type": "code",
      "metadata": {
        "id": "YZOuGS9aLkkE",
        "colab_type": "code",
        "colab": {},
        "outputId": "e3a70455-d430-47f6-a949-d59039e9b430"
      },
      "source": [
        "learn.fit_one_cycle(5, max_lr=1e-5)"
      ],
      "execution_count": 0,
      "outputs": [
        {
          "output_type": "stream",
          "text": [
            "Total time: 01:07\n",
            "epoch  train_loss  valid_loss  error_rate\n",
            "1      1.349151    1.062807    0.609929    (00:13)\n",
            "2      1.373262    1.045115    0.546099    (00:13)\n",
            "3      1.346169    1.006288    0.468085    (00:13)\n",
            "4      1.334486    0.978713    0.453901    (00:13)\n",
            "5      1.320978    0.978108    0.446809    (00:13)\n",
            "\n"
          ],
          "name": "stdout"
        }
      ]
    },
    {
      "cell_type": "code",
      "metadata": {
        "id": "IuK6rLe_LkkH",
        "colab_type": "code",
        "colab": {},
        "outputId": "2d4bd07b-395d-430e-d2fa-d05d7ca888eb"
      },
      "source": [
        "learn.recorder.plot_losses()"
      ],
      "execution_count": 0,
      "outputs": [
        {
          "output_type": "display_data",
          "data": {
            "image/png": "[encoded data removed]",
            "text/plain": [
              "<Figure size 432x288 with 1 Axes>"
            ]
          },
          "metadata": {
            "tags": [],
            "needs_background": "light"
          }
        }
      ]
    },
    {
      "cell_type": "markdown",
      "metadata": {
        "id": "tyAXG4NZLkkM",
        "colab_type": "text"
      },
      "source": [
        "As well as taking a really long time, it's getting too many looks at each image, so may overfit."
      ]
    },
    {
      "cell_type": "markdown",
      "metadata": {
        "id": "CCMJqPfBLkkM",
        "colab_type": "text"
      },
      "source": [
        "### Too few epochs"
      ]
    },
    {
      "cell_type": "code",
      "metadata": {
        "id": "e5ZNb83ZLkkN",
        "colab_type": "code",
        "colab": {}
      },
      "source": [
        "learn = cnn_learner(data, models.resnet34, metrics=error_rate, pretrained=False)"
      ],
      "execution_count": 0,
      "outputs": []
    },
    {
      "cell_type": "code",
      "metadata": {
        "id": "ncyyPhGALkkT",
        "colab_type": "code",
        "colab": {},
        "outputId": "b2b8fbff-d813-4ad6-e643-984222bd84ea"
      },
      "source": [
        "learn.fit_one_cycle(1)"
      ],
      "execution_count": 0,
      "outputs": [
        {
          "output_type": "stream",
          "text": [
            "Total time: 00:14\n",
            "epoch  train_loss  valid_loss  error_rate\n",
            "1      0.602823    0.119616    0.049645    (00:14)\n",
            "\n"
          ],
          "name": "stdout"
        }
      ]
    },
    {
      "cell_type": "markdown",
      "metadata": {
        "id": "A-Tl4a_-LkkX",
        "colab_type": "text"
      },
      "source": [
        "### Too many epochs"
      ]
    },
    {
      "cell_type": "code",
      "metadata": {
        "id": "t5Ll3EPyLkkX",
        "colab_type": "code",
        "colab": {}
      },
      "source": [
        "np.random.seed(42)\n",
        "data = ImageDataBunch.from_folder(path, train=\".\", valid_pct=0.9, bs=32, \n",
        "        ds_tfms=get_transforms(do_flip=False, max_rotate=0, max_zoom=1, max_lighting=0, max_warp=0\n",
        "                              ),size=224, num_workers=4).normalize(imagenet_stats)"
      ],
      "execution_count": 0,
      "outputs": []
    },
    {
      "cell_type": "code",
      "metadata": {
        "id": "rdxOwdbCLkkZ",
        "colab_type": "code",
        "colab": {}
      },
      "source": [
        "learn = cnn_learner(data, models.resnet50, metrics=error_rate, ps=0, wd=0)\n",
        "learn.unfreeze()"
      ],
      "execution_count": 0,
      "outputs": []
    },
    {
      "cell_type": "code",
      "metadata": {
        "id": "eomelkdeLkkb",
        "colab_type": "code",
        "colab": {},
        "outputId": "daafa6f8-40f2-4b2d-d38f-de5d0ad2dc49"
      },
      "source": [
        "learn.fit_one_cycle(40, slice(1e-6,1e-4))"
      ],
      "execution_count": 0,
      "outputs": [
        {
          "output_type": "stream",
          "text": [
            "Total time: 06:39\n",
            "epoch  train_loss  valid_loss  error_rate\n",
            "1      1.513021    1.041628    0.507326    (00:13)\n",
            "2      1.290093    0.994758    0.443223    (00:09)\n",
            "3      1.185764    0.936145    0.410256    (00:09)\n",
            "4      1.117229    0.838402    0.322344    (00:09)\n",
            "5      1.022635    0.734872    0.252747    (00:09)\n",
            "6      0.951374    0.627288    0.192308    (00:10)\n",
            "7      0.916111    0.558621    0.184982    (00:09)\n",
            "8      0.839068    0.503755    0.177656    (00:09)\n",
            "9      0.749610    0.433475    0.144689    (00:09)\n",
            "10     0.678583    0.367560    0.124542    (00:09)\n",
            "11     0.615280    0.327029    0.100733    (00:10)\n",
            "12     0.558776    0.298989    0.095238    (00:09)\n",
            "13     0.518109    0.266998    0.084249    (00:09)\n",
            "14     0.476290    0.257858    0.084249    (00:09)\n",
            "15     0.436865    0.227299    0.067766    (00:09)\n",
            "16     0.457189    0.236593    0.078755    (00:10)\n",
            "17     0.420905    0.240185    0.080586    (00:10)\n",
            "18     0.395686    0.255465    0.082418    (00:09)\n",
            "19     0.373232    0.263469    0.080586    (00:09)\n",
            "20     0.348988    0.258300    0.080586    (00:10)\n",
            "21     0.324616    0.261346    0.080586    (00:09)\n",
            "22     0.311310    0.236431    0.071429    (00:09)\n",
            "23     0.328342    0.245841    0.069597    (00:10)\n",
            "24     0.306411    0.235111    0.064103    (00:10)\n",
            "25     0.289134    0.227465    0.069597    (00:09)\n",
            "26     0.284814    0.226022    0.064103    (00:09)\n",
            "27     0.268398    0.222791    0.067766    (00:09)\n",
            "28     0.255431    0.227751    0.073260    (00:10)\n",
            "29     0.240742    0.235949    0.071429    (00:09)\n",
            "30     0.227140    0.225221    0.075092    (00:09)\n",
            "31     0.213877    0.214789    0.069597    (00:09)\n",
            "32     0.201631    0.209382    0.062271    (00:10)\n",
            "33     0.189988    0.210684    0.065934    (00:09)\n",
            "34     0.181293    0.214666    0.073260    (00:09)\n",
            "35     0.184095    0.222575    0.073260    (00:09)\n",
            "36     0.194615    0.229198    0.076923    (00:10)\n",
            "37     0.186165    0.218206    0.075092    (00:09)\n",
            "38     0.176623    0.207198    0.062271    (00:10)\n",
            "39     0.166854    0.207256    0.065934    (00:10)\n",
            "40     0.162692    0.206044    0.062271    (00:09)\n",
            "\n"
          ],
          "name": "stdout"
        }
      ]
    }
  ]
}